{
  "cells": [
    {
      "cell_type": "markdown",
      "metadata": {
        "id": "9KFU-_ZrsZFR"
      },
      "source": [
        "# Lab Deep Learning / Multi-Layer Perceptron for binary-classification / in pytorch\n"
      ]
    },
    {
      "cell_type": "markdown",
      "metadata": {
        "id": "4-0LCM7sseew"
      },
      "source": [
        "## Objective:\n",
        "\n",
        "The objective of this lab is to develop a two hidden layers MLP to perform **binary classification**.\n",
        "\n",
        "We will use a MLP with 2 hidden layer with $n_{h1}=20$ and $n_{h2}=10$ hidden units and ```relu``` activation functions.\n",
        "You will perform 10.000 iterations (epochs) of SGD to find the parameters.\n",
        "\n",
        "Note: in this lab, we do not separate the dataset into a train, validation and test part."
      ]
    },
    {
      "cell_type": "markdown",
      "metadata": {
        "id": "rhcaeREyshiA"
      },
      "source": [
        "### Data normalization\n",
        "\n",
        "You should normalize the data to zero mean and unit standard deviation"
      ]
    },
    {
      "cell_type": "markdown",
      "metadata": {
        "id": "W889TJY0sjrw"
      },
      "source": [
        "### Model\n",
        "\n",
        "There are various ways to write NN model in pytorch.\n",
        "\n",
        "In this lab, you will write three different implementations:\n",
        "- **Model A**: manually defining the parameters (W1,b1,W2,b2,W3,b3), writing the forward equations, writting the loss equation, calling the .backward() and manually updating the weights using W1.grad. You will write the loop to perform 1000 epochs.\n",
        "- **Model B**: using the Sequential class of pytorch\n",
        "- **Model C**: a custom torch.nn.Module class for this.\n",
        "\n",
        "For Model B and C, you will use the ready made loss and optimization from the nn and optim packages. You can use the same code to optimize the parameters of Model B and C."
      ]
    },
    {
      "cell_type": "markdown",
      "metadata": {
        "id": "_Qc8jENGsmR5"
      },
      "source": [
        "### Loss\n",
        "\n",
        "Since we are dealing with a binary classification problem, we will use a Binary Cross Entropy loss (use ```torch.nn.BCELoss``` for Model B and C)."
      ]
    },
    {
      "cell_type": "markdown",
      "metadata": {
        "id": "PbkGTDaRso25"
      },
      "source": [
        "### Parameters update/ Optimization\n",
        "\n",
        "For updating the parameters, we will use as optimizer a simple SGD algorithm (use ```torch.optim.SGD``` for Model B and C) with a learning rate of 0.1.\n",
        "\n",
        "Don't forget that an optimizer is applied to a set of parameters (```my_model.parameters()``` gives the parameters of the network for Model B and C).\n",
        "Once the gradients have been computed (after the backpropagation has been performed), you can perform one step of optimization (using ```optimizer.step()``` for Model B and C)."
      ]
    },
    {
      "cell_type": "markdown",
      "metadata": {
        "id": "6qzL47Ntss3p"
      },
      "source": [
        "### Backward propagation\n",
        "\n",
        "Backpropagation is automatically performed in pytorch using the ```autograd``` package.\n",
        "First, reset the gradients of all parameters (using ```optimizer.zero_grad()``` for Model B and C), then perform the backpropagation ```loss.backward()```."
      ]
    },
    {
      "cell_type": "markdown",
      "metadata": {
        "id": "tuvU8y2Lo60Z"
      },
      "source": [
        "## Load the python packages"
      ]
    },
    {
      "cell_type": "code",
      "execution_count": 1,
      "metadata": {
        "id": "I1VTuwVio60a"
      },
      "outputs": [],
      "source": [
        "import torch\n",
        "import torch.nn as nn\n",
        "import torch.nn.functional as F\n",
        "import torch.optim as optim\n",
        "from torch.autograd import Variable\n",
        "\n",
        "import numpy as np\n",
        "import matplotlib.pyplot as plt"
      ]
    },
    {
      "cell_type": "code",
      "execution_count": 2,
      "metadata": {
        "colab": {
          "base_uri": "https://localhost:8080/"
        },
        "id": "Zof__thjo60d",
        "outputId": "b5bacbb3-a276-4bbd-af55-d1d2296cab65"
      },
      "outputs": [
        {
          "name": "stdout",
          "output_type": "stream",
          "text": [
            "2.2.2\n"
          ]
        }
      ],
      "source": [
        "print(torch.__version__)"
      ]
    },
    {
      "cell_type": "markdown",
      "metadata": {
        "id": "Bsb-phrJo60g"
      },
      "source": [
        "## Dataset\n",
        "\n",
        "We take the usual circle dataset from sklearn."
      ]
    },
    {
      "cell_type": "code",
      "execution_count": 3,
      "metadata": {
        "id": "Otam7ukPo60g"
      },
      "outputs": [],
      "source": [
        "from sklearn import datasets\n",
        "\n",
        "X_np, y_np = datasets.make_circles(n_samples=1000, noise=0.2, factor=0.5)"
      ]
    },
    {
      "cell_type": "markdown",
      "metadata": {
        "id": "-5idAV4Co60i"
      },
      "source": [
        "We convert the ```numpy tensors``` to ```torch tensors```.\n",
        "The difference being that the latters allows to do automatic gradient differentiation (back-propagation)."
      ]
    },
    {
      "cell_type": "code",
      "execution_count": 4,
      "metadata": {
        "id": "rPxnzVSDo60j"
      },
      "outputs": [],
      "source": [
        "X = torch.from_numpy(X_np).float()\n",
        "y = torch.from_numpy(y_np).float()\n",
        "y = y.view(len(y), 1)"
      ]
    },
    {
      "cell_type": "code",
      "execution_count": 5,
      "metadata": {
        "colab": {
          "base_uri": "https://localhost:8080/"
        },
        "id": "YHgd8JYPo60l",
        "outputId": "58af11b8-8294-405e-b631-5c8d10074d40"
      },
      "outputs": [
        {
          "name": "stdout",
          "output_type": "stream",
          "text": [
            "torch.Size([1000, 2])\n",
            "torch.Size([1000, 1])\n",
            "tensor([ 0.0140, -0.0009])\n",
            "tensor([0.5903, 0.5881])\n"
          ]
        }
      ],
      "source": [
        "print(X.size())\n",
        "print(y.size())\n",
        "print(X.mean(dim=0))\n",
        "print(X.std(dim=0))"
      ]
    },
    {
      "cell_type": "markdown",
      "metadata": {
        "id": "Unp-3kjjo60n"
      },
      "source": [
        "## Normalization"
      ]
    },
    {
      "cell_type": "code",
      "execution_count": 6,
      "metadata": {
        "colab": {
          "base_uri": "https://localhost:8080/"
        },
        "id": "6rIwFaauo60n",
        "outputId": "a81e0d53-fb63-4eea-d72f-bf126343a4b9"
      },
      "outputs": [
        {
          "name": "stdout",
          "output_type": "stream",
          "text": [
            "tensor([1.7166e-08, 2.2888e-08])\n",
            "tensor([1.0000, 1.0000])\n"
          ]
        }
      ],
      "source": [
        "X -= X.mean(dim=0)\n",
        "X /= X.std(dim=0)\n",
        "print(X.mean(dim=0))\n",
        "print(X.std(dim=0))"
      ]
    },
    {
      "cell_type": "markdown",
      "metadata": {
        "id": "Rc3VgVWOo60p"
      },
      "source": [
        "## Definition of the hyper-parameters"
      ]
    },
    {
      "cell_type": "code",
      "execution_count": 7,
      "metadata": {
        "id": "OrBQMqCJo60r"
      },
      "outputs": [],
      "source": [
        "n_in = X.shape[1]\n",
        "n_h1 = 20\n",
        "n_h2 = 10\n",
        "n_out = 1\n",
        "\n",
        "nb_epoch = 10000\n",
        "alpha = 0.1"
      ]
    },
    {
      "cell_type": "markdown",
      "metadata": {
        "id": "CIzjntgZo60t"
      },
      "source": [
        "## Model 1 (writing the network equations)\n",
        "\n",
        "\n"
      ]
    },
    {
      "cell_type": "markdown",
      "metadata": {
        "id": "4pllj-HFth04"
      },
      "source": [
        "### Parameter initialization"
      ]
    },
    {
      "cell_type": "code",
      "execution_count": 8,
      "metadata": {
        "id": "fGEMW1P1tllj"
      },
      "outputs": [],
      "source": [
        "# --- We first initialize the variables of the network (W1, b1, ...)\n",
        "W1 = torch.randn(n_in, n_h1) * np.sqrt(\n",
        "    2 / n_in\n",
        ")  # He initialization for ReLU activation\n",
        "W1.requires_grad = True\n",
        "b1 = torch.zeros(1, n_h1)\n",
        "b1.requires_grad = True\n",
        "\n",
        "W2 = torch.randn(n_h1, n_h2) * np.sqrt(2 / n_h1)\n",
        "W2.requires_grad = True\n",
        "b2 = torch.zeros(1, n_h2)\n",
        "b2.requires_grad = True\n",
        "\n",
        "W3 = torch.randn(n_h2, n_out) * np.sqrt(2 / n_h2)\n",
        "W3.requires_grad = True\n",
        "b3 = torch.zeros(1, n_out)\n",
        "b3.requires_grad = True"
      ]
    },
    {
      "cell_type": "markdown",
      "metadata": {
        "id": "GU472VdktqoP"
      },
      "source": [
        "### Define the model\n",
        "\n",
        "We write a function to perform the forward pass (using pytorch operators, not numpy operators) taking X as input and returing hat_y as output."
      ]
    },
    {
      "cell_type": "code",
      "execution_count": 9,
      "metadata": {
        "id": "1BWc4OoZts_l"
      },
      "outputs": [],
      "source": [
        "def model(X):\n",
        "    A0 = X  # (m, n_in)\n",
        "    Z1 = A0 @ W1 + b1  # (m, n_h1)\n",
        "    A1 = F.relu(Z1)  # (m, n_h1)\n",
        "    Z2 = A1 @ W2 + b2  # (m, n_h2)\n",
        "    A2 = F.relu(Z2)  # (m, n_h2)\n",
        "    Z3 = A2 @ W3 + b3  # (m, n_out)\n",
        "    A3 = F.sigmoid(Z3)  # (m, n_out)\n",
        "    hat_y = A3  # (m, n_out)\n",
        "    return hat_y"
      ]
    },
    {
      "cell_type": "markdown",
      "metadata": {
        "id": "-t--05ydty4g"
      },
      "source": [
        "### Main training loop\n",
        "\n",
        "We iterate over epochs (we do not perform split into mini-batch here).\n",
        "For each iteration, we\n",
        "- a) perform the forward pass,\n",
        "- b) compute the loss/cost,\n",
        "- c) compute the backward pass to get the gradients of the cost w.r.t. the parameters W1, b1, ...\n",
        "- d) perform the update of the parameters W1, b1, ...\n",
        "\n",
        "***Important: pytorch restriction***\n",
        "When you update the parameters (W1, b1, ...) but subtracting a small part of the gradient, you should that ``inplace`` (W1 -= ??? and not W1 = W1 - ???). Otherwise pytorch will overide W1 by its value (it will eras its .grad filed).\n"
      ]
    },
    {
      "cell_type": "code",
      "execution_count": 10,
      "metadata": {
        "colab": {
          "base_uri": "https://localhost:8080/",
          "height": 788
        },
        "id": "HB65rqW4o60u",
        "outputId": "0442bf0a-4c58-4abc-ab8e-4d4a4f73218c"
      },
      "outputs": [
        {
          "name": "stdout",
          "output_type": "stream",
          "text": [
            "epoch 0, loss 0.8280677199363708\n",
            "epoch 500, loss 0.27256646752357483\n",
            "epoch 1000, loss 0.2688530683517456\n",
            "epoch 1500, loss 0.2679075002670288\n",
            "epoch 2000, loss 0.2666282057762146\n",
            "epoch 2500, loss 0.26589375734329224\n",
            "epoch 3000, loss 0.2653098404407501\n",
            "epoch 3500, loss 0.26468625664711\n",
            "epoch 4000, loss 0.2641525864601135\n",
            "epoch 4500, loss 0.26367804408073425\n",
            "epoch 5000, loss 0.26324978470802307\n",
            "epoch 5500, loss 0.2626532316207886\n",
            "epoch 6000, loss 0.2622520625591278\n",
            "epoch 6500, loss 0.26174217462539673\n",
            "epoch 7000, loss 0.2613368034362793\n",
            "epoch 7500, loss 0.26093438267707825\n",
            "epoch 8000, loss 0.260308176279068\n",
            "epoch 8500, loss 0.2596692740917206\n",
            "epoch 9000, loss 0.2590882182121277\n",
            "epoch 9500, loss 0.25854912400245667\n"
          ]
        },
        {
          "data": {
            "text/plain": [
              "[<matplotlib.lines.Line2D at 0x132f902f0>]"
            ]
          },
          "execution_count": 10,
          "metadata": {},
          "output_type": "execute_result"
        },
        {
          "data": {
            "image/png": "[encoded data removed]",
            "text/plain": [
              "<Figure size 640x480 with 1 Axes>"
            ]
          },
          "metadata": {},
          "output_type": "display_data"
        }
      ],
      "source": [
        "loss_l = []\n",
        "for num_epoch in range(0, nb_epoch):\n",
        "\n",
        "    # --- a) Forward pass: X (n_in, m), hat_y (n_out, m)\n",
        "    hat_y = model(X)\n",
        "\n",
        "    # -- We clip hat_y in order to avoid log(0) in the loss\n",
        "    eps = 1e-10\n",
        "    hat_y = torch.clamp(hat_y, eps, 1 - eps)\n",
        "\n",
        "    # --- b) Computing the loss/cost\n",
        "    loss = -(y * torch.log(hat_y) + (1 - y) * torch.log(1 - hat_y))\n",
        "    cost = torch.mean(loss)\n",
        "    loss_l.append(cost.item())\n",
        "\n",
        "    if num_epoch % 500 == 0:\n",
        "        print(\"epoch {}, loss {}\".format(num_epoch, cost))\n",
        "\n",
        "    # --- c) Backward pass\n",
        "    cost.backward()\n",
        "\n",
        "    # --- \"with torch.no_grad()\" temporarily set all the requires_grad flag to false\n",
        "    with torch.no_grad():\n",
        "        # --- d) perform the update of the parameters W1, b1, ...\n",
        "        # --- the gradients dLoss/dW1 is stored in W1.grad, dLoss/db1 is stored in b1.grad, ...\n",
        "        W1 -= alpha * W1.grad\n",
        "        b1 -= alpha * b1.grad\n",
        "        W2 -= alpha * W2.grad\n",
        "        b2 -= alpha * b2.grad\n",
        "        W3 -= alpha * W3.grad\n",
        "        b3 -= alpha * b3.grad\n",
        "\n",
        "    # --- We need to set to zero all gradients (otherwise they are cumulated)\n",
        "    W1.grad.zero_()\n",
        "    b1.grad.zero_()\n",
        "    W2.grad.zero_()\n",
        "    b2.grad.zero_()\n",
        "    W3.grad.zero_()\n",
        "    b3.grad.zero_()\n",
        "plt.plot(loss_l)"
      ]
    },
    {
      "cell_type": "markdown",
      "metadata": {
        "id": "lxgA4DXVo60w"
      },
      "source": [
        "## Model 2 (using nn.sequential)"
      ]
    },
    {
      "cell_type": "code",
      "execution_count": 11,
      "metadata": {
        "id": "elGQpQzjo60x"
      },
      "outputs": [],
      "source": [
        "my_model = nn.Sequential(\n",
        "    nn.Linear(n_in, n_h1, bias=True),\n",
        "    nn.ReLU(),\n",
        "    nn.Linear(n_h1, n_h2, bias=True),\n",
        "    nn.ReLU(),\n",
        "    nn.Linear(n_h2, n_out, bias=True),\n",
        "    nn.Sigmoid(),\n",
        ")"
      ]
    },
    {
      "cell_type": "markdown",
      "metadata": {
        "id": "ts4aVeIPo601"
      },
      "source": [
        "### Criterion and Optimization\n",
        "\n",
        "The code of Model 1 is self-contained, i.e. it already contains all necessary instruction to perform forward, loss, backward and parameter updates.\n",
        "\n",
        "When using ```nn.sequential``` (model 2) or a class definition of the network (model 3), we still need to define\n",
        "- what we will minimize (the loss to be minimized, i.e. Binary-Cross-Entropy). We can of course write the equation of it by hand but pytorch comes with a very large number of pre-build loss functions (within ```torch.nn```)\n",
        "- how we will minimize the loss, i.e. what parameter update algorithms we will use (SGD, momentum). We can of course write the equation of it by hand but pytorch comes with a very large number of pre-build loss functions (within ```torch.nn```)"
      ]
    },
    {
      "cell_type": "code",
      "execution_count": 12,
      "metadata": {
        "id": "xs63V-Wgo602"
      },
      "outputs": [],
      "source": [
        "criterion = nn.BCELoss()\n",
        "optimizer = torch.optim.SGD(my_model.parameters(), lr=alpha)"
      ]
    },
    {
      "cell_type": "markdown",
      "metadata": {
        "id": "89ysZn6rw17u"
      },
      "source": [
        "### Main training loop\n",
        "\n",
        "Having defined the network, the citerion to be minimized and the optimizer, we then perform a loop over epochs (iterations); at each step we\n",
        "- compute the forward pass by passing the data to the model: ```haty = model(x)```\n",
        "- compute the the loss (the criterion)\n",
        "- putting at zero the gradients of all the parameters of the network (this is important since, by default, pytorch accumulate the gradients over time)\n",
        "- computing the backpropagation (using as before ```.backward()```)\n",
        "- performing one step of optimization (using ```.step()```)"
      ]
    },
    {
      "cell_type": "code",
      "execution_count": 13,
      "metadata": {
        "colab": {
          "base_uri": "https://localhost:8080/",
          "height": 787
        },
        "id": "JROT567kw17u",
        "outputId": "8f321bb1-ccd8-458d-c659-f516f0a25c96"
      },
      "outputs": [
        {
          "name": "stdout",
          "output_type": "stream",
          "text": [
            "epoch 0, loss 0.7053613662719727\n",
            "epoch 500, loss 0.2760152220726013\n",
            "epoch 1000, loss 0.26883968710899353\n",
            "epoch 1500, loss 0.26741456985473633\n",
            "epoch 2000, loss 0.26668214797973633\n",
            "epoch 2500, loss 0.2659991681575775\n",
            "epoch 3000, loss 0.26549413800239563\n",
            "epoch 3500, loss 0.2651091516017914\n",
            "epoch 4000, loss 0.264676570892334\n",
            "epoch 4500, loss 0.26440221071243286\n",
            "epoch 5000, loss 0.2640993595123291\n",
            "epoch 5500, loss 0.26317498087882996\n",
            "epoch 6000, loss 0.26281407475471497\n",
            "epoch 6500, loss 0.26251348853111267\n",
            "epoch 7000, loss 0.2622354030609131\n",
            "epoch 7500, loss 0.26195767521858215\n",
            "epoch 8000, loss 0.261660099029541\n",
            "epoch 8500, loss 0.2613145709037781\n",
            "epoch 9000, loss 0.26100948452949524\n",
            "epoch 9500, loss 0.2606844902038574\n"
          ]
        },
        {
          "data": {
            "text/plain": [
              "[<matplotlib.lines.Line2D at 0x17c721b20>]"
            ]
          },
          "execution_count": 13,
          "metadata": {},
          "output_type": "execute_result"
        },
        {
          "data": {
            "image/png": "[encoded data removed]",
            "text/plain": [
              "<Figure size 640x480 with 1 Axes>"
            ]
          },
          "metadata": {},
          "output_type": "display_data"
        }
      ],
      "source": [
        "loss_l = []\n",
        "for num_epoch in range(nb_epoch):\n",
        "\n",
        "    hat_y = my_model(X)\n",
        "    loss = criterion(hat_y, y)\n",
        "    # Zero gradients, perform a backward pass, and update the weights.\n",
        "    optimizer.zero_grad()\n",
        "    loss.backward()  # perform back-propagation\n",
        "    optimizer.step()  # update the weights\n",
        "\n",
        "    loss_l.append(loss.item())\n",
        "\n",
        "    if num_epoch % 500 == 0:\n",
        "        print(\"epoch {}, loss {}\".format(num_epoch, loss.item()))\n",
        "\n",
        "# ----------------\n",
        "plt.plot(loss_l)"
      ]
    },
    {
      "cell_type": "markdown",
      "metadata": {
        "id": "4twpnbEAo60z"
      },
      "source": [
        "## Model 3 (using a class definition)"
      ]
    },
    {
      "cell_type": "code",
      "execution_count": 14,
      "metadata": {
        "id": "ZNsNkq9Do60z"
      },
      "outputs": [],
      "source": [
        "class Net(torch.nn.Module):\n",
        "    def __init__(self, n_in, n_h1, n_h2, n_out):\n",
        "        super(Net, self).__init__()\n",
        "\n",
        "        self.fc1 = nn.Linear(n_in, n_h1)  # hidden layer 1\n",
        "        self.fc2 = nn.Linear(n_h1, n_h2)  # hidden layer 2\n",
        "        self.fc3 = nn.Linear(n_h2, n_out)  # output layer\n",
        "\n",
        "    def forward(self, X):\n",
        "\n",
        "        A0 = X\n",
        "        A1 = F.relu(self.fc1(A0))  # activation function for hidden layer 1\n",
        "        A2 = F.relu(self.fc2(A1))  # activation function for hidden layer 2\n",
        "        A3 = F.sigmoid(self.fc3(A2))  # activation function for output layer\n",
        "\n",
        "        return A3\n",
        "\n",
        "\n",
        "my_model = Net(n_in, n_h1, n_h2, n_out)"
      ]
    },
    {
      "cell_type": "markdown",
      "metadata": {
        "id": "VfOoKPMtwfLI"
      },
      "source": [
        "### Criterion and Optimization (same as for model 2 -> copy and paste your code)"
      ]
    },
    {
      "cell_type": "code",
      "execution_count": 15,
      "metadata": {
        "id": "e-DC96kOwfLJ"
      },
      "outputs": [],
      "source": [
        "criterion = nn.BCELoss()\n",
        "optimizer = torch.optim.SGD(my_model.parameters(), lr=alpha)"
      ]
    },
    {
      "cell_type": "markdown",
      "metadata": {
        "id": "XamuBM_ho604"
      },
      "source": [
        "### Main training loop (same as for model 2 -> copy and paste your code)\n"
      ]
    },
    {
      "cell_type": "code",
      "execution_count": 16,
      "metadata": {
        "colab": {
          "base_uri": "https://localhost:8080/",
          "height": 787
        },
        "id": "rKfrD8V3o605",
        "outputId": "581282ee-1dde-44e5-a5c7-145f9ae3bbaa"
      },
      "outputs": [
        {
          "name": "stdout",
          "output_type": "stream",
          "text": [
            "epoch 0, loss 0.6916719675064087\n",
            "epoch 500, loss 0.2748135030269623\n",
            "epoch 1000, loss 0.2698673605918884\n",
            "epoch 1500, loss 0.2684815526008606\n",
            "epoch 2000, loss 0.26729121804237366\n",
            "epoch 2500, loss 0.2662915289402008\n",
            "epoch 3000, loss 0.2659358084201813\n",
            "epoch 3500, loss 0.26565027236938477\n",
            "epoch 4000, loss 0.2653915584087372\n",
            "epoch 4500, loss 0.26516759395599365\n",
            "epoch 5000, loss 0.2649748623371124\n",
            "epoch 5500, loss 0.26481637358665466\n",
            "epoch 6000, loss 0.26467591524124146\n",
            "epoch 6500, loss 0.264546662569046\n",
            "epoch 7000, loss 0.2644270956516266\n",
            "epoch 7500, loss 0.26431119441986084\n",
            "epoch 8000, loss 0.26420336961746216\n",
            "epoch 8500, loss 0.26409995555877686\n",
            "epoch 9000, loss 0.2640007436275482\n",
            "epoch 9500, loss 0.26390430331230164\n"
          ]
        },
        {
          "data": {
            "text/plain": [
              "[<matplotlib.lines.Line2D at 0x17c786540>]"
            ]
          },
          "execution_count": 16,
          "metadata": {},
          "output_type": "execute_result"
        },
        {
          "data": {
            "image/png": "[encoded data removed]",
            "text/plain": [
              "<Figure size 640x480 with 1 Axes>"
            ]
          },
          "metadata": {},
          "output_type": "display_data"
        }
      ],
      "source": [
        "loss_l = []\n",
        "for num_epoch in range(nb_epoch):\n",
        "\n",
        "    hat_y = my_model(X)  # Forward pass: Compute predicted y by passing  x to the model\n",
        "    loss = criterion(hat_y, y)  # Compute loss\n",
        "    # Zero gradients, perform a backward pass, and update the weights.\n",
        "    optimizer.zero_grad()  # re-init the gradients (otherwise they are cumulated)\n",
        "    loss.backward()  # perform back-propagation\n",
        "    optimizer.step()  # update the weights\n",
        "\n",
        "    loss_l.append(loss.item())\n",
        "\n",
        "    if num_epoch % 500 == 0:\n",
        "        print(\"epoch {}, loss {}\".format(num_epoch, loss.item()))\n",
        "\n",
        "# ----------------\n",
        "plt.plot(loss_l)"
      ]
    }
  ],
  "metadata": {
    "colab": {
      "provenance": []
    },
    "kernelspec": {
      "display_name": "Python 3",
      "language": "python",
      "name": "python3"
    },
    "language_info": {
      "codemirror_mode": {
        "name": "ipython",
        "version": 3
      },
      "file_extension": ".py",
      "mimetype": "text/x-python",
      "name": "python",
      "nbconvert_exporter": "python",
      "pygments_lexer": "ipython3",
      "version": "3.12.2"
    },
    "toc": {
      "base_numbering": 1,
      "nav_menu": {},
      "number_sections": true,
      "sideBar": true,
      "skip_h1_title": false,
      "title_cell": "Table of Contents",
      "title_sidebar": "Contents",
      "toc_cell": false,
      "toc_position": {},
      "toc_section_display": true,
      "toc_window_display": true
    }
  },
  "nbformat": 4,
  "nbformat_minor": 0
}
